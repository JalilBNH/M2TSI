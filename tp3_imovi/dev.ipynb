{
 "cells": [
  {
   "cell_type": "code",
   "execution_count": 2,
   "metadata": {},
   "outputs": [],
   "source": [
    "import numpy as np\n",
    "from matplotlib import pyplot as plt"
   ]
  },
  {
   "cell_type": "code",
   "execution_count": 3,
   "metadata": {},
   "outputs": [
    {
     "name": "stdout",
     "output_type": "stream",
     "text": [
      "Collecting metashape\n",
      "  Downloading metashape-0.0.4-py3-none-any.whl.metadata (1.9 kB)\n",
      "Requirement already satisfied: typing-extensions in c:\\users\\jalil\\desktop\\ecole\\m2tsi\\tpenv\\lib\\site-packages (from metashape) (4.12.2)\n",
      "Collecting dictknife (from metashape)\n",
      "  Downloading dictknife-0.14.1-py3-none-any.whl.metadata (5.7 kB)\n",
      "Downloading metashape-0.0.4-py3-none-any.whl (33 kB)\n",
      "Downloading dictknife-0.14.1-py3-none-any.whl (70 kB)\n",
      "Installing collected packages: dictknife, metashape\n",
      "Successfully installed dictknife-0.14.1 metashape-0.0.4\n"
     ]
    },
    {
     "name": "stderr",
     "output_type": "stream",
     "text": [
      "\n",
      "[notice] A new release of pip is available: 24.2 -> 24.3.1\n",
      "[notice] To update, run: python.exe -m pip install --upgrade pip\n"
     ]
    }
   ],
   "source": [
    "!pip install metashape"
   ]
  },
  {
   "cell_type": "code",
   "execution_count": 7,
   "metadata": {},
   "outputs": [
    {
     "ename": "NameError",
     "evalue": "name 'test' is not defined",
     "output_type": "error",
     "traceback": [
      "\u001b[1;31m---------------------------------------------------------------------------\u001b[0m",
      "\u001b[1;31mNameError\u001b[0m                                 Traceback (most recent call last)",
      "Cell \u001b[1;32mIn[7], line 1\u001b[0m\n\u001b[1;32m----> 1\u001b[0m \u001b[43mtest\u001b[49m \n",
      "\u001b[1;31mNameError\u001b[0m: name 'test' is not defined"
     ]
    }
   ],
   "source": [
    "test "
   ]
  },
  {
   "cell_type": "code",
   "execution_count": 5,
   "metadata": {},
   "outputs": [],
   "source": [
    "alpha_u = 557.0943\n",
    "alpha_v = 712.9824\n",
    "u0 = 326.3819\n",
    "v0 = 298.6679\n",
    "\n",
    "Tx = 100  \n",
    "Ty = 0\n",
    "Tz = 1500\n",
    "Rx = 0.8 * np.pi / 2\n",
    "Ry = -1.8 * np.pi / 2\n",
    "Rz = np.pi / 5\n",
    "\n",
    "width = 640\n",
    "height = 480"
   ]
  },
  {
   "cell_type": "code",
   "execution_count": null,
   "metadata": {},
   "outputs": [],
   "source": [
    "def normalize(points):\n",
    "    mean_dist = np.mean(points)\n",
    "    translated_points = points - mean_dist\n",
    "    scale = 1 / mean_dist\n",
    "    scaled = translated_points * scale\n",
    "    T = np.eye()"
   ]
  }
 ],
 "metadata": {
  "kernelspec": {
   "display_name": "tpenv",
   "language": "python",
   "name": "python3"
  },
  "language_info": {
   "codemirror_mode": {
    "name": "ipython",
    "version": 3
   },
   "file_extension": ".py",
   "mimetype": "text/x-python",
   "name": "python",
   "nbconvert_exporter": "python",
   "pygments_lexer": "ipython3",
   "version": "3.9.13"
  }
 },
 "nbformat": 4,
 "nbformat_minor": 2
}
