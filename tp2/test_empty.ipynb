{
 "cells": [
  {
   "cell_type": "code",
   "execution_count": 2,
   "metadata": {},
   "outputs": [],
   "source": [
    "import os \n",
    "import numpy as np\n",
    "from matplotlib import pyplot as plt\n",
    "import cv2"
   ]
  },
  {
   "cell_type": "code",
   "execution_count": 3,
   "metadata": {},
   "outputs": [],
   "source": [
    "work_dir = 'c:/Users/Jalil/Desktop/Ecole/M2TSI/tp2/'\n",
    "dataset_toystory_path = os.path.join(work_dir, 'datasets/toy_story_1_01')\n",
    "dataset_ernest_path = os.path.join(work_dir, 'datasets/Movies/ernest_celestine_01')"
   ]
  },
  {
   "cell_type": "code",
   "execution_count": 4,
   "metadata": {},
   "outputs": [],
   "source": [
    "image_mat = np.empty((1000, 540, 920, 3))"
   ]
  },
  {
   "cell_type": "code",
   "execution_count": 24,
   "metadata": {},
   "outputs": [
    {
     "name": "stdout",
     "output_type": "stream",
     "text": [
      "[[1 2]\n",
      " [5 6]\n",
      " [3 4]\n",
      " [7 8]]\n"
     ]
    }
   ],
   "source": [
    "a = np.array([[1,2],[5,6]])\n",
    "b = np.array([[3,4], [7,8]])\n",
    "print(np.concatenate((a,b)))"
   ]
  },
  {
   "cell_type": "code",
   "execution_count": 17,
   "metadata": {},
   "outputs": [],
   "source": [
    "for i, file in enumerate(os.listdir(os.path.join(work_dir, dataset_toystory_path))):\n",
    "    image_mat[i] = cv2.imread(os.path.join(work_dir, dataset_toystory_path, file))\n",
    "    \n",
    "    "
   ]
  },
  {
   "cell_type": "code",
   "execution_count": 18,
   "metadata": {},
   "outputs": [
    {
     "name": "stdout",
     "output_type": "stream",
     "text": [
      "(1000, 540, 920, 3)\n"
     ]
    }
   ],
   "source": [
    "print(image_mat.shape)"
   ]
  },
  {
   "cell_type": "code",
   "execution_count": 20,
   "metadata": {},
   "outputs": [
    {
     "name": "stdout",
     "output_type": "stream",
     "text": [
      "[[[ 63. 133. 217.]\n",
      "  [ 63. 133. 217.]\n",
      "  [ 65. 133. 217.]\n",
      "  ...\n",
      "  [101. 101. 107.]\n",
      "  [101. 101. 107.]\n",
      "  [101. 101. 107.]]\n",
      "\n",
      " [[ 63. 133. 217.]\n",
      "  [ 63. 133. 217.]\n",
      "  [ 65. 133. 217.]\n",
      "  ...\n",
      "  [101. 101. 107.]\n",
      "  [101. 101. 107.]\n",
      "  [101. 101. 107.]]\n",
      "\n",
      " [[ 63. 133. 217.]\n",
      "  [ 63. 133. 217.]\n",
      "  [ 65. 133. 217.]\n",
      "  ...\n",
      "  [101. 101. 107.]\n",
      "  [101. 101. 107.]\n",
      "  [101. 101. 107.]]\n",
      "\n",
      " ...\n",
      "\n",
      " [[ 83. 133. 200.]\n",
      "  [ 87. 137. 203.]\n",
      "  [ 86. 134. 205.]\n",
      "  ...\n",
      "  [ 47.  82. 146.]\n",
      "  [ 51.  86. 150.]\n",
      "  [ 54.  89. 153.]]\n",
      "\n",
      " [[ 80. 130. 196.]\n",
      "  [ 84. 134. 201.]\n",
      "  [ 86. 134. 205.]\n",
      "  ...\n",
      "  [ 37.  69. 130.]\n",
      "  [ 35.  68. 129.]\n",
      "  [ 33.  66. 126.]]\n",
      "\n",
      " [[ 63. 116. 185.]\n",
      "  [ 69. 122. 190.]\n",
      "  [ 72. 124. 194.]\n",
      "  ...\n",
      "  [ 53.  90. 154.]\n",
      "  [ 52.  89. 153.]\n",
      "  [ 51.  88. 152.]]]\n"
     ]
    }
   ],
   "source": [
    "print(image_mat[10])"
   ]
  },
  {
   "cell_type": "code",
   "execution_count": null,
   "metadata": {},
   "outputs": [],
   "source": []
  }
 ],
 "metadata": {
  "kernelspec": {
   "display_name": "tpenv",
   "language": "python",
   "name": "python3"
  },
  "language_info": {
   "codemirror_mode": {
    "name": "ipython",
    "version": 3
   },
   "file_extension": ".py",
   "mimetype": "text/x-python",
   "name": "python",
   "nbconvert_exporter": "python",
   "pygments_lexer": "ipython3",
   "version": "3.9.13"
  }
 },
 "nbformat": 4,
 "nbformat_minor": 2
}
