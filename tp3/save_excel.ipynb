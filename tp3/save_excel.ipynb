{
 "cells": [
  {
   "cell_type": "code",
   "execution_count": 25,
   "metadata": {},
   "outputs": [],
   "source": [
    "import numpy as np\n",
    "import keras\n",
    "import pickle\n",
    "import pandas as pd\n",
    "from matplotlib import pyplot as plt\n",
    "from keras.api.saving import load_model\n",
    "import sys\n",
    "sys.path.append('../')\n",
    "from utils import load_test"
   ]
  },
  {
   "cell_type": "code",
   "execution_count": 2,
   "metadata": {},
   "outputs": [],
   "source": [
    "with open('./models/history_mult.npy', 'rb') as f:\n",
    "    history_mult = pickle.load(f)\n",
    "with open('./models/history_bin.npy', 'rb') as f:\n",
    "    history_bin = pickle.load(f)"
   ]
  },
  {
   "cell_type": "code",
   "execution_count": 3,
   "metadata": {},
   "outputs": [],
   "source": [
    "with open('./models/evaluation_mult.npy', 'rb') as f:\n",
    "    evaluation_mult = pickle.load(f)\n",
    "with open('./models/evaluation_bin.npy', 'rb') as f:\n",
    "    evaluation_bin = pickle.load(f)"
   ]
  },
  {
   "cell_type": "code",
   "execution_count": 28,
   "metadata": {},
   "outputs": [
    {
     "name": "stdout",
     "output_type": "stream",
     "text": [
      "[0.8317969441413879, 0.8379999995231628]\n",
      "[1.4054940938949585, 0.5659999847412109]\n"
     ]
    }
   ],
   "source": [
    "print(evaluation_bin)\n",
    "print(evaluation_mult)"
   ]
  },
  {
   "cell_type": "code",
   "execution_count": 7,
   "metadata": {},
   "outputs": [
    {
     "name": "stdout",
     "output_type": "stream",
     "text": [
      "[1.1889002323150635, 0.8824429512023926, 0.9488126635551453, 0.7891024947166443, 0.9786256551742554, 0.7771716117858887, 0.7845821380615234, 0.8045306205749512, 0.7112898826599121, 0.7643498778343201, 0.7516692280769348, 0.6562498211860657, 0.8280449509620667, 0.7041574120521545, 0.7490968108177185]\n"
     ]
    }
   ],
   "source": [
    "print(history_mult['val_loss'])"
   ]
  },
  {
   "cell_type": "code",
   "execution_count": 10,
   "metadata": {},
   "outputs": [],
   "source": [
    "excel_dict = {}\n",
    "for k, v in history_bin.items():\n",
    "    excel_dict[f'{k}_bin'] = v\n",
    "for k, v in history_mult.items():\n",
    "    excel_dict[f'{k}_mult'] = v"
   ]
  },
  {
   "cell_type": "code",
   "execution_count": 12,
   "metadata": {},
   "outputs": [],
   "source": [
    "df = pd.DataFrame(excel_dict)\n",
    "df.to_excel('./excel_test.xlsx', index=False)"
   ]
  }
 ],
 "metadata": {
  "kernelspec": {
   "display_name": "tpenv",
   "language": "python",
   "name": "python3"
  },
  "language_info": {
   "codemirror_mode": {
    "name": "ipython",
    "version": 3
   },
   "file_extension": ".py",
   "mimetype": "text/x-python",
   "name": "python",
   "nbconvert_exporter": "python",
   "pygments_lexer": "ipython3",
   "version": "3.9.13"
  }
 },
 "nbformat": 4,
 "nbformat_minor": 2
}
