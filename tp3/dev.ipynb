{
 "cells": [
  {
   "cell_type": "code",
   "execution_count": 1,
   "metadata": {},
   "outputs": [],
   "source": [
    "import numpy as np\n",
    "import os\n",
    "import sys\n",
    "sys.path.append('../')\n",
    "import cv2\n",
    "from utils import load_datasets"
   ]
  },
  {
   "cell_type": "code",
   "execution_count": 2,
   "metadata": {},
   "outputs": [],
   "source": [
    "from utils import load_datasets"
   ]
  },
  {
   "cell_type": "code",
   "execution_count": 44,
   "metadata": {},
   "outputs": [],
   "source": [
    "def load_datasets(datasets_dir, multi_class=True, read_from_stubs=False, stub_path=None, save_stub=False):    \n",
    "    \"\"\"Given a directory containing all our datasets, return our train and validation data in 2 numpy array.\n",
    "\n",
    "    Args:\n",
    "        datasets_dir (str): path/to/dataset_dir\n",
    "        multi_class (bool, optional): Choose if you do multi-class or binary classification. Defaults to True.\n",
    "        read_from_stubs (bool, optional): Read data from npy file (faster). Defaults to False.\n",
    "        stub_path (str, optional):path/to/stubs. Defaults to None.\n",
    "        save_stub (bool, optional): Save a npy file. Defaults to False.\n",
    "\n",
    "\n",
    "    Returns:\n",
    "        np.array: train test and validation datasets in np.array\n",
    "    \"\"\"\n",
    "    if read_from_stubs and stub_path is not None and len(os.listdir(stub_path)) == 3:\n",
    "        with open(os.path.join(stub_path, 'ds_01_train.npy'), 'rb') as f:\n",
    "            dataset_01_train = np.load(f)\n",
    "        with open(os.path.join(stub_path, 'ds_01_test.npy'), 'rb') as f:\n",
    "            dataset_01_test = np.load(f)\n",
    "        with open(os.path.join(stub_path, 'ds_02.npy'), 'rb') as f:\n",
    "            dataset_02 = np.load(f)\n",
    "        \n",
    "        return dataset_01_train, dataset_01_test, dataset_02\n",
    "    \n",
    "    train_total_size = 0\n",
    "    val_total_size = 0\n",
    "    if multi_class:\n",
    "        for folder in os.listdir(datasets_dir):\n",
    "            if folder.endswith('01'):\n",
    "                train_total_size  += len(os.listdir(os.path.join(datasets_dir, folder)))\n",
    "            elif folder.endswith('02'):\n",
    "                val_total_size += len(os.listdir(os.path.join(datasets_dir, folder)))      \n",
    "    else:\n",
    "        for folder in os.listdir(datasets_dir)[:4]:\n",
    "            if folder.endswith('01'):\n",
    "                train_total_size  += len(os.listdir(os.path.join(datasets_dir, folder)))\n",
    "            elif folder.endswith('02'):\n",
    "                val_total_size += len(os.listdir(os.path.join(datasets_dir, folder)))\n",
    "    dataset_01_train = np.empty(shape=(int(0.8*train_total_size), 540, 920, 3), dtype=np.float32)\n",
    "    dataset_01_test = np.empty(shape=(int(0.2*train_total_size), 540, 920, 3), dtype=np.float32)\n",
    "    dataset_02 = np.empty(shape=(val_total_size, 540, 920, 3), dtype=np.float32)\n",
    "    \n",
    "    idx_test = 0\n",
    "    idx_train = 0\n",
    "    idx_val = 0\n",
    "    \n",
    "    folders = os.listdir(datasets_dir) if multi_class else os.listdir(datasets_dir)[:4]\n",
    "\n",
    "    for folder in folders:\n",
    "        len_folder = len(os.listdir(os.path.join(datasets_dir, folder)))  \n",
    "        if folder.endswith('01'):\n",
    "            for i, file in enumerate(os.listdir(os.path.join(datasets_dir, folder))[:int(0.8*len_folder)]):\n",
    "                dataset_01_train[i+idx_train] = cv2.imread(os.path.join(datasets_dir, folder, file)) / 255.0\n",
    "            idx_train += int(0.8*len_folder)\n",
    "            for i, file in enumerate(os.listdir(os.path.join(datasets_dir, folder))[int(0.8*len_folder):]):\n",
    "                dataset_01_test[i+idx_test] = cv2.imread(os.path.join(datasets_dir, folder, file)) / 255.0\n",
    "            idx_test += int(0.2*len_folder)\n",
    "        if folder.endswith('02'):\n",
    "            for file in os.listdir(os.path.join(datasets_dir, folder)):\n",
    "                dataset_02[idx_val] = cv2.imread(os.path.join(datasets_dir, folder, file)) / 255.0\n",
    "                idx_val += 1\n",
    "                           \n",
    "    if save_stub:\n",
    "        with open(os.path.join(stub_path, 'ds_01_train.npy'), 'wb') as f:\n",
    "            np.save(f, dataset_01_train)\n",
    "        with open(os.path.join(stub_path, 'ds_01_test.npy'), 'wb') as f:\n",
    "            np.save(f, dataset_01_test)\n",
    "        with open(os.path.join(stub_path, 'ds_02.npy'), 'wb') as f:\n",
    "            np.save(f, dataset_02)\n",
    "            \n",
    "    return dataset_01_train, dataset_01_test, dataset_02\n",
    "    "
   ]
  }
 ],
 "metadata": {
  "kernelspec": {
   "display_name": "tpenv",
   "language": "python",
   "name": "python3"
  },
  "language_info": {
   "codemirror_mode": {
    "name": "ipython",
    "version": 3
   },
   "file_extension": ".py",
   "mimetype": "text/x-python",
   "name": "python",
   "nbconvert_exporter": "python",
   "pygments_lexer": "ipython3",
   "version": "3.9.13"
  }
 },
 "nbformat": 4,
 "nbformat_minor": 2
}
