{
 "cells": [
  {
   "cell_type": "code",
   "execution_count": 1,
   "metadata": {},
   "outputs": [],
   "source": [
    "import numpy as np\n",
    "import os\n",
    "import sys\n",
    "sys.path.append('../')\n",
    "import cv2"
   ]
  },
  {
   "cell_type": "code",
   "execution_count": 2,
   "metadata": {},
   "outputs": [],
   "source": [
    "from utils import load_datasets"
   ]
  },
  {
   "cell_type": "code",
   "execution_count": 14,
   "metadata": {},
   "outputs": [],
   "source": [
    "def load_datasets(datasets_dir, multi_class=True, read_from_stubs=False, save_stub=False):\n",
    "    \"\"\"Given a directory containing all our datasets, return our train and validation data in 2 numpy array.\n",
    "\n",
    "    Args:\n",
    "        datasets_dir (str): path/to/dataset_dir\n",
    "        multi_class (bool, optional): Choose if you do multi-class or binary classification. Defaults to True.\n",
    "        read_from_stubs (bool, optional): Read data from npy file (faster). Defaults to False.\n",
    "        save_stub (bool, optional): Save a npy file. Defaults to False.\n",
    "\n",
    "    Returns:\n",
    "        np.array: train and validation datasets in np.array\n",
    "    \"\"\"\n",
    "    if read_from_stubs and (os.path.exists(os.path.join(datasets_dir, 'dataset_01.npy')) and os.path.exists(os.path.join(datasets_dir, 'dataset_02.npy'))):\n",
    "        with open(os.path.join(datasets_dir, 'dataset_01.npy'), 'rb') as f:\n",
    "            dataset_01 = np.load(f)\n",
    "        with open(os.path.join(datasets_dir, 'dataset_02.npy'), 'rb') as f:\n",
    "            dataset_02 = np.load(f)\n",
    "        \n",
    "        return dataset_01, dataset_02\n",
    "            \n",
    "            \n",
    "    train_total_size = 0\n",
    "    val_total_size = 0\n",
    "    \n",
    "    if multi_class:\n",
    "        for folder in os.listdir(datasets_dir):\n",
    "            if folder.endswith('01'):\n",
    "                train_total_size  += len(os.listdir(os.path.join(datasets_dir, folder)))\n",
    "            elif folder.endswith('02'):\n",
    "                val_total_size += len(os.listdir(os.path.join(datasets_dir, folder)))  \n",
    "    \n",
    "    else:\n",
    "        for folder in os.listdir(datasets_dir)[:4]:\n",
    "            if folder.endswith('01'):\n",
    "                train_total_size  += len(os.listdir(os.path.join(datasets_dir, folder)))\n",
    "            elif folder.endswith('02'):\n",
    "                val_total_size += len(os.listdir(os.path.join(datasets_dir, folder)))\n",
    "        \n",
    "    dataset_01 = np.empty(shape=(train_total_size, 540, 920, 3), dtype=np.float32)\n",
    "    dataset_02 = np.empty(shape=(val_total_size, 540, 920, 3), dtype=np.float32)\n",
    "        \n",
    "    i = 0\n",
    "    for folder in os.listdir(datasets_dir):\n",
    "        if folder.endswith('01'):\n",
    "            for file in os.listdir(os.path.join(datasets_dir, folder)):\n",
    "                dataset_01[i] = cv2.imread(os.path.join(datasets_dir, folder, file)) / 255.0\n",
    "                i += 1\n",
    "    i = 0\n",
    "    for folder in os.listdir(datasets_dir):\n",
    "        if folder.endswith('02'):\n",
    "            for file in os.listdir(os.path.join(datasets_dir, folder)):\n",
    "                dataset_02[i] = cv2.imread(os.path.join(datasets_dir, folder, file)) / 255.0\n",
    "                i += 1\n",
    "    \n",
    "    if save_stub:\n",
    "        with open(os.path.join(datasets_dir, 'dataset_01.npy'), 'wb') as f:\n",
    "            np.save(f, dataset_01)\n",
    "        with open(os.path.join(datasets_dir, 'dataset_02.npy'), 'wb') as f:\n",
    "            np.save(f, dataset_02)\n",
    "\n",
    "    return dataset_01, dataset_02"
   ]
  },
  {
   "cell_type": "code",
   "execution_count": 55,
   "metadata": {},
   "outputs": [],
   "source": [
    "datasets_dir = '../datasets/Movies'\n",
    "multi_class = False"
   ]
  },
  {
   "cell_type": "code",
   "execution_count": 11,
   "metadata": {},
   "outputs": [],
   "source": []
  },
  {
   "cell_type": "code",
   "execution_count": 74,
   "metadata": {},
   "outputs": [],
   "source": [
    "datasets_dir = '../datasets/Movies'\n",
    "train_total_size = 0\n",
    "val_total_size = 0\n",
    "multi_class = True\n",
    "\n",
    "if multi_class:\n",
    "        for folder in os.listdir(datasets_dir):\n",
    "            if folder.endswith('01'):\n",
    "                train_total_size  += len(os.listdir(os.path.join(datasets_dir, folder)))\n",
    "            elif folder.endswith('02'):\n",
    "                val_total_size += len(os.listdir(os.path.join(datasets_dir, folder)))      \n",
    "else:\n",
    "    for folder in os.listdir(datasets_dir)[:4]:\n",
    "        if folder.endswith('01'):\n",
    "            train_total_size  += len(os.listdir(os.path.join(datasets_dir, folder)))\n",
    "        elif folder.endswith('02'):\n",
    "            val_total_size += len(os.listdir(os.path.join(datasets_dir, folder)))"
   ]
  },
  {
   "cell_type": "code",
   "execution_count": 75,
   "metadata": {},
   "outputs": [
    {
     "name": "stdout",
     "output_type": "stream",
     "text": [
      "1600\n",
      "400\n"
     ]
    }
   ],
   "source": [
    "print(int(0.8*train_total_size))\n",
    "print(int(0.2*train_total_size))"
   ]
  },
  {
   "cell_type": "code",
   "execution_count": 76,
   "metadata": {},
   "outputs": [],
   "source": [
    "dataset_01_train = np.empty(shape=(int(0.8*train_total_size), 540, 920, 3), dtype=np.float32)\n",
    "dataset_01_test = np.empty(shape=(int(0.2*train_total_size), 540, 920, 3), dtype=np.float32)\n",
    "dataset_02 = np.empty(shape=(val_total_size, 540, 920, 3), dtype=np.float32)"
   ]
  },
  {
   "cell_type": "code",
   "execution_count": 77,
   "metadata": {},
   "outputs": [],
   "source": [
    "idx_test = 0\n",
    "idx_train = 0\n",
    "idx_val = 0\n",
    "for folder in os.listdir(datasets_dir):\n",
    "    len_folder = len(os.listdir(os.path.join(datasets_dir, folder)))  \n",
    "    if folder.endswith('01'):\n",
    "        for i, file in enumerate(os.listdir(os.path.join(datasets_dir, folder))[:int(0.8*len_folder)]):\n",
    "            dataset_01_train[i+idx_train] = cv2.imread(os.path.join(datasets_dir, folder, file)) / 255.0\n",
    "        idx_train += int(0.8*len_folder)\n",
    "        for i, file in enumerate(os.listdir(os.path.join(datasets_dir, folder))[int(0.8*len_folder):]):\n",
    "            dataset_01_test[i+idx_test] = cv2.imread(os.path.join(datasets_dir, folder, file)) / 255.0\n",
    "        idx_test += int(0.2*len_folder)\n",
    "    if folder.endswith('02'):\n",
    "        for file in os.listdir(os.path.join(datasets_dir, folder)):\n",
    "            dataset_02[idx_val] = cv2.imread(os.path.join(datasets_dir, folder, file)) / 255.0\n",
    "            idx_val += 1\n",
    "        \n"
   ]
  },
  {
   "cell_type": "code",
   "execution_count": 84,
   "metadata": {},
   "outputs": [],
   "source": [
    "with open(os.path.join(datasets_dir, 'ds01_train.npy'), 'wb') as f:\n",
    "    np.save(f, dataset_01_train)\n",
    "with open(os.path.join(datasets_dir, 'ds01_test.npy'), 'wb') as f:\n",
    "    np.save(f, dataset_01_test)\n",
    "with open(os.path.join(datasets_dir, 'ds02.npy'), 'wb') as f:\n",
    "    np.save(f, dataset_02)\n"
   ]
  },
  {
   "cell_type": "code",
   "execution_count": 79,
   "metadata": {},
   "outputs": [],
   "source": [
    "cv2.imshow('', dataset_02[0])\n",
    "cv2.waitKey(0)\n",
    "cv2.destroyAllWindows()"
   ]
  },
  {
   "cell_type": "code",
   "execution_count": 56,
   "metadata": {},
   "outputs": [
    {
     "name": "stdout",
     "output_type": "stream",
     "text": [
      "1600\n"
     ]
    }
   ],
   "source": [
    "print(len(dataset_01_train))"
   ]
  },
  {
   "cell_type": "code",
   "execution_count": 3,
   "metadata": {},
   "outputs": [],
   "source": [
    "datasets_dir = '../datasets/Movies'"
   ]
  },
  {
   "cell_type": "code",
   "execution_count": 6,
   "metadata": {},
   "outputs": [
    {
     "ename": "EOFError",
     "evalue": "No data left in file",
     "output_type": "error",
     "traceback": [
      "\u001b[1;31m---------------------------------------------------------------------------\u001b[0m",
      "\u001b[1;31mEOFError\u001b[0m                                  Traceback (most recent call last)",
      "Cell \u001b[1;32mIn[6], line 2\u001b[0m\n\u001b[0;32m      1\u001b[0m \u001b[38;5;28;01mwith\u001b[39;00m \u001b[38;5;28mopen\u001b[39m(os\u001b[38;5;241m.\u001b[39mpath\u001b[38;5;241m.\u001b[39mjoin(datasets_dir, \u001b[38;5;124m'\u001b[39m\u001b[38;5;124mds01_train.npy\u001b[39m\u001b[38;5;124m'\u001b[39m), \u001b[38;5;124m'\u001b[39m\u001b[38;5;124mrb\u001b[39m\u001b[38;5;124m'\u001b[39m) \u001b[38;5;28;01mas\u001b[39;00m f:\n\u001b[1;32m----> 2\u001b[0m     dataset_01_train \u001b[38;5;241m=\u001b[39m \u001b[43mnp\u001b[49m\u001b[38;5;241;43m.\u001b[39;49m\u001b[43mload\u001b[49m\u001b[43m(\u001b[49m\u001b[43mf\u001b[49m\u001b[43m)\u001b[49m\n",
      "File \u001b[1;32mc:\\Users\\Jalil\\Desktop\\Ecole\\M2TSI\\tpenv\\lib\\site-packages\\numpy\\lib\\npyio.py:436\u001b[0m, in \u001b[0;36mload\u001b[1;34m(file, mmap_mode, allow_pickle, fix_imports, encoding, max_header_size)\u001b[0m\n\u001b[0;32m    434\u001b[0m magic \u001b[38;5;241m=\u001b[39m fid\u001b[38;5;241m.\u001b[39mread(N)\n\u001b[0;32m    435\u001b[0m \u001b[38;5;28;01mif\u001b[39;00m \u001b[38;5;129;01mnot\u001b[39;00m magic:\n\u001b[1;32m--> 436\u001b[0m     \u001b[38;5;28;01mraise\u001b[39;00m \u001b[38;5;167;01mEOFError\u001b[39;00m(\u001b[38;5;124m\"\u001b[39m\u001b[38;5;124mNo data left in file\u001b[39m\u001b[38;5;124m\"\u001b[39m)\n\u001b[0;32m    437\u001b[0m \u001b[38;5;66;03m# If the file size is less than N, we need to make sure not\u001b[39;00m\n\u001b[0;32m    438\u001b[0m \u001b[38;5;66;03m# to seek past the beginning of the file\u001b[39;00m\n\u001b[0;32m    439\u001b[0m fid\u001b[38;5;241m.\u001b[39mseek(\u001b[38;5;241m-\u001b[39m\u001b[38;5;28mmin\u001b[39m(N, \u001b[38;5;28mlen\u001b[39m(magic)), \u001b[38;5;241m1\u001b[39m)  \u001b[38;5;66;03m# back-up\u001b[39;00m\n",
      "\u001b[1;31mEOFError\u001b[0m: No data left in file"
     ]
    }
   ],
   "source": [
    "with open(os.path.join(datasets_dir, 'ds01_train.npy'), 'rb') as f:\n",
    "    dataset_01_train = np.load(f)\n",
    "\n"
   ]
  },
  {
   "cell_type": "code",
   "execution_count": null,
   "metadata": {},
   "outputs": [],
   "source": []
  }
 ],
 "metadata": {
  "kernelspec": {
   "display_name": "tpenv",
   "language": "python",
   "name": "python3"
  },
  "language_info": {
   "codemirror_mode": {
    "name": "ipython",
    "version": 3
   },
   "file_extension": ".py",
   "mimetype": "text/x-python",
   "name": "python",
   "nbconvert_exporter": "python",
   "pygments_lexer": "ipython3",
   "version": "3.9.13"
  }
 },
 "nbformat": 4,
 "nbformat_minor": 2
}
