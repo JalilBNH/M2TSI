Epoch 1/15
[1m14/14[0m [32m━━━━━━━━━━━━━━━━━━━━[0m[37m[0m [1m41s[0m 3s/step - classification_accuracy: 0.5812 - classification_loss: 0.6983 - loss: 4.4881 - regression_abs_difference_loss: 1.5895 - regression_loss: 3.7880
Epoch 2/15
[1m14/14[0m [32m━━━━━━━━━━━━━━━━━━━━[0m[37m[0m [1m37s[0m 3s/step - classification_accuracy: 0.6073 - classification_loss: 0.6697 - loss: 3.0619 - regression_abs_difference_loss: 1.2804 - regression_loss: 2.3920
Epoch 3/15
[1m14/14[0m [32m━━━━━━━━━━━━━━━━━━━━[0m[37m[0m [1m37s[0m 3s/step - classification_accuracy: 0.5977 - classification_loss: 0.6664 - loss: 2.9201 - regression_abs_difference_loss: 1.1197 - regression_loss: 2.2534
Epoch 4/15
[1m14/14[0m [32m━━━━━━━━━━━━━━━━━━━━[0m[37m[0m [1m38s[0m 3s/step - classification_accuracy: 0.6127 - classification_loss: 0.6709 - loss: 2.7404 - regression_abs_difference_loss: 0.9973 - regression_loss: 2.0693
Epoch 5/15
[1m14/14[0m [32m━━━━━━━━━━━━━━━━━━━━[0m[37m[0m [1m38s[0m 3s/step - classification_accuracy: 0.5903 - classification_loss: 0.6792 - loss: 2.6422 - regression_abs_difference_loss: 1.0167 - regression_loss: 1.9629
Epoch 6/15
[1m14/14[0m [32m━━━━━━━━━━━━━━━━━━━━[0m[37m[0m [1m37s[0m 3s/step - classification_accuracy: 0.5930 - classification_loss: 0.6733 - loss: 2.8848 - regression_abs_difference_loss: 1.0553 - regression_loss: 2.2102
Epoch 7/15
[1m14/14[0m [32m━━━━━━━━━━━━━━━━━━━━[0m[37m[0m [1m39s[0m 3s/step - classification_accuracy: 0.6025 - classification_loss: 0.6713 - loss: 2.5918 - regression_abs_difference_loss: 0.9773 - regression_loss: 1.9206
Epoch 8/15
[1m14/14[0m [32m━━━━━━━━━━━━━━━━━━━━[0m[37m[0m [1m40s[0m 3s/step - classification_accuracy: 0.5863 - classification_loss: 0.6775 - loss: 2.5318 - regression_abs_difference_loss: 0.9557 - regression_loss: 1.8548
Epoch 9/15
[1m14/14[0m [32m━━━━━━━━━━━━━━━━━━━━[0m[37m[0m [1m37s[0m 3s/step - classification_accuracy: 0.6197 - classification_loss: 0.6734 - loss: 2.5891 - regression_abs_difference_loss: 0.9747 - regression_loss: 1.9161
Epoch 10/15
[1m14/14[0m [32m━━━━━━━━━━━━━━━━━━━━[0m[37m[0m [1m37s[0m 3s/step - classification_accuracy: 0.5913 - classification_loss: 0.6755 - loss: 2.6953 - regression_abs_difference_loss: 1.0231 - regression_loss: 2.0203
Epoch 11/15
[1m14/14[0m [32m━━━━━━━━━━━━━━━━━━━━[0m[37m[0m [1m37s[0m 3s/step - classification_accuracy: 0.5862 - classification_loss: 0.6747 - loss: 2.6712 - regression_abs_difference_loss: 0.9981 - regression_loss: 1.9959
Epoch 12/15
[1m14/14[0m [32m━━━━━━━━━━━━━━━━━━━━[0m[37m[0m [1m37s[0m 3s/step - classification_accuracy: 0.6173 - classification_loss: 0.6648 - loss: 2.5602 - regression_abs_difference_loss: 0.9651 - regression_loss: 1.8956
Epoch 13/15
[1m14/14[0m [32m━━━━━━━━━━━━━━━━━━━━[0m[37m[0m [1m37s[0m 3s/step - classification_accuracy: 0.6079 - classification_loss: 0.6685 - loss: 2.5682 - regression_abs_difference_loss: 0.9574 - regression_loss: 1.8995
Epoch 14/15
[1m14/14[0m [32m━━━━━━━━━━━━━━━━━━━━[0m[37m[0m [1m37s[0m 3s/step - classification_accuracy: 0.5906 - classification_loss: 0.6752 - loss: 2.5468 - regression_abs_difference_loss: 0.9758 - regression_loss: 1.8715
Epoch 15/15
[1m14/14[0m [32m━━━━━━━━━━━━━━━━━━━━[0m[37m[0m [1m37s[0m 3s/step - classification_accuracy: 0.6082 - classification_loss: 0.6615 - loss: 2.6533 - regression_abs_difference_loss: 0.9938 - regression_loss: 1.9918
