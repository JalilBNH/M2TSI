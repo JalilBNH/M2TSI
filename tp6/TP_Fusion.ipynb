{
 "cells": [
  {
   "cell_type": "markdown",
   "id": "c62be8ac-887a-4049-8bda-efaaba5a1d8e",
   "metadata": {},
   "source": [
    "**TP : La Fusion Multimodale**"
   ]
  },
  {
   "cell_type": "markdown",
   "id": "6f9fe6b9-270c-4651-8ba0-37dee41cd0ac",
   "metadata": {},
   "source": [
    "Lors de ce TP, nous allons étudier la fuson multimodale au niveau de la décision  et par la suite au niveau des caractéristiques (early fusion)\n",
    "\n",
    "Pour cela, vous avez à disposition une partie de la base de données AffectNet. AffectNet est une base qui contient presque 300.000 images réparties sur 8 classes (émotions).\n",
    "Pou ce TP, nous utiliserons que 4 classes : anger, happu, neutral et surprise. \n",
    "chaque classe contient 1000 images.\n",
    "\n",
    "Vous avez également une base de données de cartes de profondeur. Ces cartes representent les images d'AffectNet. Elles ont été synthétisées grâce à Depth Anything. "
   ]
  },
  {
   "cell_type": "code",
   "execution_count": null,
   "id": "e486ebea",
   "metadata": {},
   "outputs": [],
   "source": []
  },
  {
   "cell_type": "code",
   "execution_count": 9,
   "id": "0d88f42d-b12d-43c7-a3b5-812746ed65d8",
   "metadata": {},
   "outputs": [],
   "source": [
    "# Bibliothéques\n",
    "import numpy as np \n",
    "from matplotlib import pyplot as plt\n",
    "import pandas as pd\n",
    "import math\n",
    "import os \n",
    "import seaborn as sns"
   ]
  },
  {
   "cell_type": "code",
   "execution_count": null,
   "id": "076c0cc5",
   "metadata": {},
   "outputs": [],
   "source": []
  },
  {
   "cell_type": "markdown",
   "id": "d47fcdc0-3bd3-460c-8dd0-fd22547b0298",
   "metadata": {},
   "source": [
    "***Créez une fonction appelée data_visualization(classes, data) qui visualise la distribution des données dans un dataset en traçant un graphique en barres. Cette fonction doit prendre comme arguments une liste de classes (correspondant aux catégories) et une liste contenant le nombre d'images par catégorie***"
   ]
  },
  {
   "cell_type": "code",
   "execution_count": 19,
   "id": "1e9c49d3-c36f-4beb-897f-6ecb2dea3637",
   "metadata": {},
   "outputs": [],
   "source": [
    "def data_visualization(data_path, classes):\n",
    "    data_per_class = np.empty(len(classes))\n",
    "    print(classes)\n",
    "    for i, classe in enumerate(classes):\n",
    "        data_per_class[i] = len(os.path.join('../datasets/tp6/data/depth', classe))\n",
    "    print(data_per_class)\n",
    "    sns.histplot(data_per_class)\n"
   ]
  },
  {
   "cell_type": "code",
   "execution_count": 57,
   "id": "8abc5581",
   "metadata": {},
   "outputs": [],
   "source": [
    "def data_visualization(data_path):\n",
    "\n",
    "    classes = os.listdir(data_path)\n",
    "    data_per_class = np.empty(len(classes))\n",
    "\n",
    "    for i, cls in enumerate(classes) :\n",
    "        data_per_class[i] = len(os.listdir(os.path.join(data_path, cls)))\n",
    "\n",
    "    print(data_per_class)\n",
    "    plt.bar(classes, height=data_per_class)"
   ]
  },
  {
   "cell_type": "code",
   "execution_count": 58,
   "id": "9ce22347",
   "metadata": {},
   "outputs": [
    {
     "name": "stdout",
     "output_type": "stream",
     "text": [
      "[1000. 1000. 1000. 1000.]\n"
     ]
    },
    {
     "data": {
      "image/png": "[encoded data removed]",
      "text/plain": [
       "<Figure size 640x480 with 1 Axes>"
      ]
     },
     "metadata": {},
     "output_type": "display_data"
    }
   ],
   "source": [
    "data_visualization(data_path='../datasets/tp6/data/depth')"
   ]
  },
  {
   "cell_type": "markdown",
   "id": "ee67f5b0-f1b7-4e3a-a18d-b1e4607da207",
   "metadata": {},
   "source": [
    "**Écrivez une fonction load_data() qui :**\n",
    "\n",
    "**1. Charge un dataset à partir d'un chemins de fichiers différents, en parcourant les sous-dossiers correspondant aux différentes classes d’émotions.**\n",
    "\n",
    "**2. Charge les images de chaque classe, les redimensionne à une taille de 100x100, et les stocke dans une liste.**\n",
    "\n",
    "**3. Encode les étiquettes des classes avec un encodeur LabelEncoder, puis effectue une conversion en encodage one-hot.**\n",
    "\n",
    "**4. Visualise la distribution du nombre d'images par catégorie à l'aide d'une fonction data_visualization()**\n",
    "\n",
    "**Retourne deux valeurs : les images et les étiquettes**"
   ]
  },
  {
   "cell_type": "code",
   "execution_count": null,
   "id": "45ad7a17-ca1b-4e9e-9e26-bf02884698c7",
   "metadata": {},
   "outputs": [],
   "source": [
    "def load_data(path):\n",
    "\n",
    "      \n",
    "      print(\"\\nTotal number of uploaded data: \", data.shape[0],\n",
    "          \", with data shape\", (data.shape[1],data.shape[2]))\n",
    "\n",
    "    return data, labels"
   ]
  },
  {
   "cell_type": "code",
   "execution_count": 52,
   "id": "5b631ed8",
   "metadata": {},
   "outputs": [
    {
     "data": {
      "text/plain": [
       "'../datasets/tp6/data/depth'"
      ]
     },
     "execution_count": 52,
     "metadata": {},
     "output_type": "execute_result"
    }
   ],
   "source": []
  },
  {
   "cell_type": "code",
   "execution_count": null,
   "id": "d5b66db5",
   "metadata": {},
   "outputs": [],
   "source": []
  },
  {
   "cell_type": "markdown",
   "id": "1d32644f-a740-476a-807c-b2883d228def",
   "metadata": {},
   "source": [
    "data_rgb, labels_rgb = load_data(path_rgb)\n",
    "\n",
    "data_depth, labels_depth = load_data(path_depth)"
   ]
  },
  {
   "cell_type": "markdown",
   "id": "ee45e657-74a5-4ac4-af97-aeb08da31064",
   "metadata": {},
   "source": [
    "**Écrivez un code pour diviser un dataset en plusieurs sous-ensembles en suivant les étapes suivantes :**\n",
    "\n",
    "**1. Divisez le dataset en deux sous-ensembles : un pour l'entraînement (70% des données) et un autre pour les tests (30% des données).**\n",
    "\n",
    "**2. Prenez le sous-ensemble de test et divisez-le à nouveau en deux sous-ensembles égaux : un pour la validation (50%) et un autre pour les tests (50%).**\n",
    "\n",
    "**3. Affichez les formes (dimensions) des jeux de données résultants : [X_train_rgb, X_valid_rgb, X_test_rgb, y_train_rgb, y_valid_rgb, y_test_rgb] et [X_train_d, X_valid_d, X_test_d, y_train_d, y_valid_d, y_test_d].**\n",
    "\n",
    "**Attention ! mettez shuffle = False afin d'avoir le même autre d'apparition des RGB et Depth**"
   ]
  },
  {
   "cell_type": "code",
   "execution_count": null,
   "id": "b4c7407e-c9c8-4b18-8959-a602abf4d941",
   "metadata": {},
   "outputs": [],
   "source": []
  },
  {
   "cell_type": "markdown",
   "id": "d1978e86-9613-4a23-8eca-85ad3b20bca7",
   "metadata": {},
   "source": [
    "**Créez un dictionnaire mapping qui mappe les labels des émotions à leurs noms respectifs. Par exemple, 0 correspond à 'anger', 1 à 'contempt', etc.**"
   ]
  },
  {
   "cell_type": "code",
   "execution_count": null,
   "id": "b472c981-0c73-4163-9348-22e8a3620262",
   "metadata": {},
   "outputs": [],
   "source": []
  },
  {
   "cell_type": "markdown",
   "id": "9ecc85a9-1725-4c7e-bcf8-6f1e19d40fd9",
   "metadata": {},
   "source": [
    "**Préparer l'augmentation des données : Utilisez ImageDataGenerator pour créer un objet d'augmentation des données qui applique certaines transformations aux images d'entraînement. Les transformations doivent inclure :**\n",
    "\n",
    "**- Une rotation aléatoire jusqu'à 15 degrés.**\n",
    "\n",
    "**- Un zoom aléatoire jusqu'à 15%.**\n",
    "\n",
    "**- Un ajustement de la luminosité dans une plage de (0.6, 1.2).**\n",
    "\n",
    "**- Une transformation en cisaillement jusqu'à 15%.**\n",
    "\n",
    "**- Un retournement horizontal aléatoire.**\n",
    "\n",
    "**- Le mode de remplissage doit être défini à \"nearest\".**"
   ]
  },
  {
   "cell_type": "code",
   "execution_count": null,
   "id": "9745935b-a2c7-4cdf-848e-3ccef84ec284",
   "metadata": {},
   "outputs": [],
   "source": [
    "trainAug = ImageDataGenerator()"
   ]
  },
  {
   "cell_type": "markdown",
   "id": "6cf04c24-77e2-430d-9ae3-06ef2d22c13b",
   "metadata": {},
   "source": [
    "**Affichez 9 exemples d'images augmentées aléatoirement à partir de votre ensemble d'entraînement en utilisant trainAug.flow() et affichez chaque image avec son label d'émotion associé.**"
   ]
  },
  {
   "cell_type": "code",
   "execution_count": null,
   "id": "a887391c-d8e8-459f-8f24-9c7d600e8abe",
   "metadata": {},
   "outputs": [],
   "source": []
  },
  {
   "cell_type": "markdown",
   "id": "0f158131-ad15-433d-9651-4e85568a510a",
   "metadata": {},
   "source": [
    "**late Fusion : Écrivez une fonction build_model() qui construit un model avec CNN(EfficientNet / VGG16 / VGG19) pré-entrainé sur ImageNet. N'oubliez pas de mettre classes=None. \n",
    "Ce modèle sera connecter à un Dense de 256, un BatchNormalization et un Dropout de 0.2. \n",
    "Duppliquez cette architecture en prenant soit le même CNNN ou bien un autre.**"
   ]
  },
  {
   "cell_type": "code",
   "execution_count": null,
   "id": "4d709d3b-6284-42f0-8902-053ca5485b42",
   "metadata": {},
   "outputs": [],
   "source": [
    "def build_model():\n",
    "    EffNet = tf.keras.applications.efficientnet_v2.EfficientNetV2S()           \n",
    "    input1 = Input(shape=input_shape)\n",
    "    x = EffNet (input1)\n",
    "    model_1 = Model(input1, x) \n",
    "    \n",
    "    VGG = tf.keras.applications.VGG16()\n",
    "    input2 = Input(shape=input_shape)\n",
    "    y = VGG(input2)\n",
    "    model_2 = Model(input2, y)  \n",
    "    \n",
    "     \n",
    "    z = tf.keras.layers.Average(name='average_layer')([model_1.output, model_2.output])\n",
    "    model = Model(inputs=[model_2.input, model_1.input], outputs = z)\n",
    "\n",
    "    model.compile(loss='categorical_crossentropy', optimizer='adam', metrics=['accuracy'])\n",
    "    \n",
    "    return model\n",
    "    \n",
    "model = build_model()"
   ]
  },
  {
   "cell_type": "markdown",
   "id": "353275c6-9363-4b3e-8940-44a3898d9ca2",
   "metadata": {},
   "source": [
    "**Implémentez des callbacks pour surveiller les performances de votre modèle pendant l'entraînement. Vous devez inclure les éléments suivants :**\n",
    "\n",
    "**- Checkpointing du modèle : Utilisez ModelCheckpoint pour enregistrer le modèle lorsque l'accuracy sur le jeu de validation (val_accuracy) est maximale. Le fichier du modèle doit être sauvegardé uniquement si c'est la meilleure performance atteinte jusqu'à présent.**\n",
    "\n",
    "**- Early Stopping : Utilisez EarlyStopping pour arrêter l'entraînement si l'accuracy sur le jeu de validation ne s'améliore pas après 5 époques.**\n",
    "\n",
    "**- Réduction du taux d'apprentissage : Utilisez ReduceLROnPlateau pour réduire le taux d'apprentissage de moitié si l'accuracy sur le jeu de validation ne s'améliore pas après 5 époques consécutives. Assurez-vous que le taux d'apprentissage ne tombe pas en dessous de 1e-6.**"
   ]
  },
  {
   "cell_type": "code",
   "execution_count": null,
   "id": "70c3285e-ac40-4c52-ad5b-31b77d734b98",
   "metadata": {},
   "outputs": [],
   "source": [
    "filepath = \".hdf5\"\n",
    "\n",
    "checkpoint = \n",
    "earlystopping = \n",
    "rlrop = \n",
    "\n",
    "callbacks = [checkpoint, earlystopping, rlrop]\n"
   ]
  },
  {
   "cell_type": "markdown",
   "id": "5b9bbf9a-0616-4b02-a2bf-7d6774802228",
   "metadata": {},
   "source": [
    "**Écrivez un code pour entraîner un modèle de classification d’émotions en utilisant une augmentation des données, des callbacks, et une validation croisée. Votre tâche est de :**\n",
    "\n",
    "**- Configurer l'entraînement du modèle : Utilisez la fonction fit() pour entraîner le modèle sur les deux données augmentées.**\n",
    "\n",
    "**- Inclure la validation : Utilisez les deux jeux de validation pour valider les performances du modèle à chaque époque.**\n",
    "\n",
    "**- Spécifier les callbacks : Passez la liste des callbacks.**\n",
    "\n",
    "**- Définir les paramètres d'entraînement : Le nombre d’époques (EPOCHS) et la taille des mini-lots (batch_size) doivent être définis. Utilisez steps_per_epoch pour calculer le nombre de lots nécessaires à chaque époque.**"
   ]
  },
  {
   "cell_type": "code",
   "execution_count": null,
   "id": "64216d76-32fa-4cde-83de-d5a5a1455b29",
   "metadata": {},
   "outputs": [],
   "source": [
    "EPOCHS = 100\n",
    "batch_size = 32\n",
    "\n",
    "print(f\"[INFO] training network for {EPOCHS} epochs...\\n\")\n",
    "hist = model.fit()"
   ]
  },
  {
   "cell_type": "markdown",
   "id": "addcf433-77c7-4ff7-9477-9bd181bdfdc5",
   "metadata": {},
   "source": [
    "**Faites la prédiction**"
   ]
  },
  {
   "cell_type": "code",
   "execution_count": null,
   "id": "2037e7ad-7627-4cf8-afca-8aec8a3b3b92",
   "metadata": {},
   "outputs": [],
   "source": [
    "predictions = model.predict()"
   ]
  },
  {
   "cell_type": "markdown",
   "id": "ec3b36c5-e804-4fc7-b8b5-6ac519210721",
   "metadata": {},
   "source": [
    "**Affichez la loss et l'accuracy**"
   ]
  },
  {
   "cell_type": "code",
   "execution_count": null,
   "id": "f47b13d4-b191-4dc3-846b-9d7667dc8ab0",
   "metadata": {},
   "outputs": [],
   "source": [
    "# Clear the values of previous plot\n",
    "%matplotlib inline\n",
    "\n",
    "fig = plt.figure(figsize=(15, 7))\n",
    "\n",
    "# Plot training & validation accuracy values\n",
    "fig.add_subplot(121)\n",
    "plt.plot(hist.history['accuracy'])\n",
    "plt.plot(hist.history['val_accuracy'])\n",
    "plt.title('Model accuracy')\n",
    "plt.ylabel('Accuracy')\n",
    "plt.xlabel('Epoch')\n",
    "plt.legend(['Train', 'Validation'], loc='upper left')\n",
    "plt.savefig('Training & Validation Accuracy Plot')\n",
    "\n",
    "# Plot training & validation loss values\n",
    "fig.add_subplot(122)\n",
    "plt.plot(hist.history['loss'])\n",
    "plt.plot(hist.history['val_loss'])\n",
    "plt.title('Model loss')\n",
    "plt.ylabel('Loss')\n",
    "plt.xlabel('Epoch')\n",
    "plt.legend(['Train', 'Validation'], loc='upper left')\n",
    "plt.savefig('Training & Validation Loss Plot')"
   ]
  },
  {
   "cell_type": "markdown",
   "id": "71cddd55-d2cb-4375-87d0-1f4d03ce6573",
   "metadata": {},
   "source": [
    "**Ajuster le code ci-dessous afin qu'il affiche 5 images aléatoires RGB avec leur depth ainsi que la classe predite et réelle**"
   ]
  },
  {
   "cell_type": "code",
   "execution_count": null,
   "id": "8d6dd5e6-18ce-456c-90ed-a98d2343dc9d",
   "metadata": {},
   "outputs": [],
   "source": [
    "samples = np.random.choice(len(X_test), 5)\n",
    "\n",
    "fig, axes = plt.subplots(len(samples), 2, figsize=(18, 13))\n",
    "fig.subplots_adjust(hspace=0.3, wspace=-0.2)\n",
    "\n",
    "for i, (prediction, image, label) in enumerate(zip(predictions, X_test[samples], y_test[samples])):\n",
    "\n",
    "    axes[i, 0].imshow(np.squeeze(image/255.))\n",
    "    axes[i, 0].get_xaxis().set_visible(False)\n",
    "    axes[i, 0].get_yaxis().set_visible(False)\n",
    "    axes[i, 0].text(1., -3, f'Actual Emotion: [{mapping[np.argmax(label)]}]', weight='bold')\n",
    "\n",
    "    axes[i, 1].bar(np.arange(len(prediction)), prediction)\n",
    "    axes[i, 1].set_xticks(np.arange(len(prediction)))\n",
    "    axes[i, 1].set_title(f\"Model's Prediction: [{mapping[np.argmax(prediction)]}]\", weight='bold')"
   ]
  },
  {
   "cell_type": "markdown",
   "id": "7344bebf-dfb8-44a8-9e48-d8aa22c7eb77",
   "metadata": {},
   "source": [
    "**Implémentez une fonction show_confusion_matrix() qui :**\n",
    "\n",
    "**- Fait des prédictions : Utilise le modèle pour prédire les catégories des images du jeu de test, qui n'a pas été vu par le modèle.**\n",
    "\n",
    "**- Crée une matrice de confusion : Compare les prédictions avec les vraies étiquettes en utilisant une matrice de confusion. Les prédictions et les vraies étiquettes doivent être mappées aux noms des classes d'émotions.**\n",
    "\n",
    "**- Affiche la matrice de confusion : Tracez la matrice de confusion sous forme de carte thermique (heatmap) annotée avec les vraies étiquettes sur l'axe des lignes et les étiquettes prédites sur l'axe des colonnes.**\n",
    "\n",
    "**- Calcule la précision finale : Calculez et affichez la précision du modèle sur le jeu de test.**"
   ]
  },
  {
   "cell_type": "code",
   "execution_count": null,
   "id": "d0aa306f-7ccf-4036-9a61-d3c820a35e92",
   "metadata": {},
   "outputs": [],
   "source": [
    "def show_confusion_matrix(X_test_rgb, y_test_rgb):\n",
    "\n",
    "    data = {'y_Actual':    actual_labels,\n",
    "            'y_Predicted': pred_labels}\n",
    "\n",
    "    confusion_matrix = pd.crosstab(df['y_Actual'], df['y_Predicted'], rownames=['Actual'], colnames=['Predicted'])\n",
    "\n",
    "\n",
    "    print(f\"Final accuracy: \")\n",
    "\n",
    "    _, ax = plt.subplots(figsize=(10,8)) \n",
    "    sn.heatmap(confusion_matrix, annot = True, ax=ax)\n",
    "    plt.show()"
   ]
  },
  {
   "cell_type": "code",
   "execution_count": null,
   "id": "c58a7dd4-e474-4b18-b852-99bc3bdd1ef2",
   "metadata": {},
   "outputs": [],
   "source": [
    "show_confusion_matrix(X_test_rgb, y_test_rgb)"
   ]
  },
  {
   "cell_type": "markdown",
   "id": "18d78d9d-bf97-48ad-a63a-250f6314ab80",
   "metadata": {},
   "source": [
    "**Créez deux fonctions : une fonction qui va créer un modèle pour traiter les images RGB et un autre qui va créer un modèle que pour les images depth. Evaluez les 3 modèles entre eux. Est ce que la fusion multimodale apporte plus de précision ?** "
   ]
  },
  {
   "cell_type": "code",
   "execution_count": null,
   "id": "54d3b6f2-3038-4fb1-9a9d-d169f494ce42",
   "metadata": {},
   "outputs": [],
   "source": []
  }
 ],
 "metadata": {
  "kernelspec": {
   "display_name": "tpenv",
   "language": "python",
   "name": "python3"
  },
  "language_info": {
   "codemirror_mode": {
    "name": "ipython",
    "version": 3
   },
   "file_extension": ".py",
   "mimetype": "text/x-python",
   "name": "python",
   "nbconvert_exporter": "python",
   "pygments_lexer": "ipython3",
   "version": "3.9.13"
  }
 },
 "nbformat": 4,
 "nbformat_minor": 5
}
