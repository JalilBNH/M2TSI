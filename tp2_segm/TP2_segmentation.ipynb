{
 "cells": [
  {
   "cell_type": "markdown",
   "id": "4043cfb8-65c0-4db2-b32d-b6f9c3cf707f",
   "metadata": {},
   "source": [
    "# TP2 - segmentation -\n",
    "## M2 TSI – année 2024/2025"
   ]
  },
  {
   "cell_type": "code",
   "execution_count": 4,
   "id": "e2b1b00f",
   "metadata": {},
   "outputs": [],
   "source": [
    "import numpy as np\n",
    "import cv2\n",
    "from matplotlib import pyplot as plt"
   ]
  },
  {
   "cell_type": "markdown",
   "id": "3aab3677-a843-49c4-a709-7ce7cb0f6e24",
   "metadata": {},
   "source": [
    "**Introduction :**\n",
    "Cette série de travaux pratiques a pour but de mettre en pratique les connaissances acquises pendant le cours de segmentation d’images. \n",
    "Les codes sources devront être écrits en python, et s’appuieront sur la bibliothèque de traitement d’images OpenCV.\n",
    "\n",
    "**Objectif du TP :** Appliquer ou programmer des fonctions basiques et avancées de segmentation d’images (par des approches d’extraction de contours)."
   ]
  },
  {
   "cell_type": "markdown",
   "id": "218753d9-0f66-4061-b03c-e2e643c6268f",
   "metadata": {},
   "source": [
    "**Exercice 1 :**\n",
    "\n",
    "Appliquer l’algorithme des K-means d’openCV sur un tableau contenant les intensités des pixels de l'image.\n",
    "Afficher sur l’histogramme de l'image, les centres des classes trouvés et les variances trouvées (sous formes de courbes gaussiennes).\n",
    "Utiliser cet algorithme pour afficher une segmentation de l'image en K classes (K labels).\n",
    "Tester plusieurs valeurs de K pour l’image des grains et comparer à la méthode d’Otsu.\n"
   ]
  },
  {
   "cell_type": "markdown",
   "id": "f641ead8",
   "metadata": {},
   "source": [
    "afficher les grains afficher les gaussiennes en sur impression de l'histogramme"
   ]
  },
  {
   "cell_type": "markdown",
   "id": "a3832ef3-94c2-4a72-8098-9498b0a43083",
   "metadata": {},
   "source": [
    "x = np.random.randint(25,100,25)\n",
    "y = np.random.randint(175,255,25)\n",
    "z = np.hstack((x,y))\n",
    "z = z.reshape((50,1))\n",
    "z = np.float32(z)\n",
    "plt.hist(z,256,[0,256]),plt.show()"
   ]
  },
  {
   "cell_type": "markdown",
   "id": "bcc62bed-deb1-4d6c-9711-8f29f8434aa6",
   "metadata": {},
   "source": [
    "Préambule :\n",
    "Un contour est caractérisé par une transition plus ou moins brutale des niveaux de gris d’une image. L’analyse du vecteur gradient permet de mettre en évidence un contour. En effet l’amplitude du gradient indique une discontinuité plus ou moins forte et sa direction est par définition normale au contour. Le gradient est un opérateur directionnel."
   ]
  },
  {
   "cell_type": "markdown",
   "id": "28343632-16c6-49ad-948e-5d390f3882c7",
   "metadata": {},
   "source": [
    "**Exercice 2 :** Seuillage par recherche des maxima dans la direction du gradient) :\n",
    "\n",
    "Sur une image en niveau de gris, appliquer les opérateurs de Sobel. Par cette approche, le calcul du gradient est estimé par l'intermédiaire de deux masques, le premier effectuant un gradient horizontal, le second un gradient vertical.\n",
    "Calculer la norme du gradient (module ou magnitude du vecteur) et appliquer un seuillage local par extraction des maxima du gradient dans la direction du gradient (phase du vecteur).\n",
    "Afficher les résultats de l'ensemble des étapes dans des fenêtres openCV. \n",
    "Appliquer sur ce résultat le seuillage par hystérésis (TP1) pour obtenir des contours propres.\n",
    "\n",
    "- http://www.optique-ingenieur.org/fr/cours/OPI_fr_M04_C05/co/Contenu_07.html\n",
    "- https://www.f-legrand.fr/scidoc/docmml/image/filtrage/bords/bords.html\n"
   ]
  },
  {
   "cell_type": "code",
   "execution_count": null,
   "id": "8dc2f16a-6124-44c8-a15c-5e7c5dc0276b",
   "metadata": {},
   "outputs": [],
   "source": []
  },
  {
   "cell_type": "markdown",
   "id": "1d90d593-af8c-4eb3-8b37-780bbf358985",
   "metadata": {},
   "source": [
    "**Exercice 3 :** Filtre de Canny :\n",
    "Sur une image en niveau de gris, appliquer le filtre de Canny implémenté dans openCV avec un seuil haut paramétrable.\n",
    "Comparer le résultat obtenu avec celui obtenu dans l'exercice 2.\n",
    "\n",
    "- https://docs.opencv.org/2.4/doc/tutorials/imgproc/imgtrans/canny_detector/canny_detector.html\n",
    "- https://medium.com/@rohit-krishna/coding-canny-edge-detection-algorithm-from-scratch-in-python-232e1fdceac7\n",
    "- https://towardsdatascience.com/canny-edge-detection-step-by-step-in-python-computer-vision-b49c3a2d8123\n"
   ]
  },
  {
   "cell_type": "markdown",
   "id": "08a0675a-f5e8-45d3-9194-dadb77fa0774",
   "metadata": {},
   "source": [
    "**Exercice 4 :** Opérateurs de morphologie mathématique et étiquetage en composantes connexes\n",
    "\n",
    "Sur l'image en niveau de gris des grains, développer un algorithme de segmentation d'images qui permet de compter le nombre de grains de riz présents dans l'image."
   ]
  },
  {
   "cell_type": "code",
   "execution_count": null,
   "id": "df464259-66da-443c-8644-f47183bf4ef2",
   "metadata": {},
   "outputs": [],
   "source": []
  }
 ],
 "metadata": {
  "kernelspec": {
   "display_name": "tpenv",
   "language": "python",
   "name": "python3"
  },
  "language_info": {
   "codemirror_mode": {
    "name": "ipython",
    "version": 3
   },
   "file_extension": ".py",
   "mimetype": "text/x-python",
   "name": "python",
   "nbconvert_exporter": "python",
   "pygments_lexer": "ipython3",
   "version": "3.9.13"
  }
 },
 "nbformat": 4,
 "nbformat_minor": 5
}
